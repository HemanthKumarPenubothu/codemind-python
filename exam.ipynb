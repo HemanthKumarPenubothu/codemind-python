{
  "nbformat": 4,
  "nbformat_minor": 0,
  "metadata": {
    "colab": {
      "provenance": [],
      "authorship_tag": "ABX9TyOflNxpjJ5aWH6QRKBoYgBt",
      "include_colab_link": true
    },
    "kernelspec": {
      "name": "python3",
      "display_name": "Python 3"
    },
    "language_info": {
      "name": "python"
    }
  },
  "cells": [
    {
      "cell_type": "markdown",
      "metadata": {
        "id": "view-in-github",
        "colab_type": "text"
      },
      "source": [
        "<a href=\"https://colab.research.google.com/github/HemanthKumarPenubothu/codemind-python/blob/main/exam.ipynb\" target=\"_parent\"><img src=\"https://colab.research.google.com/assets/colab-badge.svg\" alt=\"Open In Colab\"/></a>"
      ]
    },
    {
      "cell_type": "code",
      "execution_count": 1,
      "metadata": {
        "colab": {
          "base_uri": "https://localhost:8080/"
        },
        "id": "CEma3-i0FoOY",
        "outputId": "a797e5f2-231a-4ba9-f29a-3cc346a26b1a"
      },
      "outputs": [
        {
          "output_type": "stream",
          "name": "stdout",
          "text": [
            "1\n",
            "1 2 3\n",
            "YES\n"
          ]
        }
      ],
      "source": [
        "t=int(input())\n",
        "for i in range(t):\n",
        "    n,x,y=map(int,input().split())\n",
        "    if x<n:\n",
        "        print(\"NO\")\n",
        "    elif int(x/2)==n:\n",
        "        print(\"YES\")\n",
        "    else:\n",
        "        a=int(y/3)\n",
        "        b=x-a\n",
        "        c=n-a\n",
        "        if b==int(c*2):\n",
        "            print(\"YES\")\n",
        "        else:\n",
        "            print(\"NO\")"
      ]
    }
  ]
}